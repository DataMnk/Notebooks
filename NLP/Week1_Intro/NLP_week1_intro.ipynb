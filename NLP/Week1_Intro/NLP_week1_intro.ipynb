{
 "cells": [
  {
   "cell_type": "markdown",
   "id": "fa887137",
   "metadata": {},
   "source": [
    "# NLP — Week 1 (Intro)\n",
    "\n",
    "**Course notebook template**"
   ]
  },
  {
   "cell_type": "markdown",
   "id": "36942ff0",
   "metadata": {},
   "source": [
    "## Quick glossary (this week)\n",
    "- **Token:** a word or subword.\n",
    "- **Vocabulary:** set of known tokens.\n",
    "- **Bag-of-Words (BoW):** counts tokens without order.\n",
    "- **TF–IDF:** weighted counts highlighting distinctive words.\n"
   ]
  },
  {
   "cell_type": "markdown",
   "id": "8f66b648",
   "metadata": {},
   "source": [
    "## Notes\n",
    "- Key ideas:\n",
    "- Examples:\n",
    "- Questions:\n"
   ]
  },
  {
   "cell_type": "markdown",
   "id": "8fb53c95",
   "metadata": {},
   "source": [
    "## Demo: tiny TF–IDF example"
   ]
  },
  {
   "cell_type": "code",
   "execution_count": null,
   "id": "3b691804",
   "metadata": {},
   "outputs": [],
   "source": [
    "\n",
    "from sklearn.feature_extraction.text import TfidfVectorizer\n",
    "import pandas as pd\n",
    "docs = [\n",
    "    \"Computer vision and machine learning\",\n",
    "    \"Natural language processing and machine learning\",\n",
    "    \"Vision transformers are powerful\"\n",
    "]\n",
    "vec = TfidfVectorizer()\n",
    "X = vec.fit_transform(docs)\n",
    "df = pd.DataFrame(X.toarray(), columns=vec.get_feature_names_out())\n",
    "from caas_jupyter_tools import display_dataframe_to_user\n",
    "display_dataframe_to_user(\"NLP_TFIDF_Demo\", df)\n",
    "print(\"TF–IDF matrix displayed above.\")\n"
   ]
  },
  {
   "cell_type": "markdown",
   "id": "36af4664",
   "metadata": {},
   "source": [
    "## Reflection\n",
    "- Which words were more distinctive per document?\n"
   ]
  }
 ],
 "metadata": {},
 "nbformat": 4,
 "nbformat_minor": 5
}
