{
 "cells": [
  {
   "cell_type": "markdown",
   "id": "d459bd39",
   "metadata": {},
   "source": [
    "# Machine Learning — Week 1 (Intro)\n",
    "\n",
    "**Course notebook template**"
   ]
  },
  {
   "cell_type": "markdown",
   "id": "662ed702",
   "metadata": {},
   "source": [
    "## Quick glossary (this week)\n",
    "- **Feature:** input variable (x).\n",
    "- **Label/Target:** output variable (y).\n",
    "- **Train/Test split:** separate data to evaluate generalization.\n",
    "- **MSE:** mean squared error.\n"
   ]
  },
  {
   "cell_type": "markdown",
   "id": "78b58516",
   "metadata": {},
   "source": [
    "## Notes\n",
    "- Key ideas:\n",
    "- Examples:\n",
    "- Questions:\n"
   ]
  },
  {
   "cell_type": "markdown",
   "id": "e50b3e41",
   "metadata": {},
   "source": [
    "## Demo: linear regression on synthetic data"
   ]
  },
  {
   "cell_type": "code",
   "execution_count": null,
   "id": "e40ac347",
   "metadata": {},
   "outputs": [],
   "source": [
    "\n",
    "import numpy as np\n",
    "import matplotlib.pyplot as plt\n",
    "from sklearn.linear_model import LinearRegression\n",
    "from sklearn.metrics import mean_squared_error\n",
    "\n",
    "# Synthetic data\n",
    "rng = np.random.RandomState(42)\n",
    "X = np.linspace(0, 10, 50).reshape(-1,1)\n",
    "y = 3.5*X.squeeze() + 2.0 + rng.normal(0, 1.0, size=X.shape[0])\n",
    "\n",
    "model = LinearRegression().fit(X, y)\n",
    "y_pred = model.predict(X)\n",
    "mse = mean_squared_error(y, y_pred)\n",
    "print(f\"coef={model.coef_[0]:.3f}, intercept={model.intercept_:.3f}, MSE={mse:.3f}\")\n",
    "\n",
    "plt.figure()\n",
    "plt.scatter(X, y)\n",
    "plt.plot(X, y_pred)\n",
    "plt.title(\"Linear Regression: data & fit\")\n",
    "plt.xlabel(\"X\")\n",
    "plt.ylabel(\"y\")\n"
   ]
  },
  {
   "cell_type": "markdown",
   "id": "db8d4ea4",
   "metadata": {},
   "source": [
    "## Reflection\n",
    "- ¿La recta captura bien la tendencia?\n",
    "- ¿Qué pasaría si aumentas el ruido?\n"
   ]
  }
 ],
 "metadata": {},
 "nbformat": 4,
 "nbformat_minor": 5
}
