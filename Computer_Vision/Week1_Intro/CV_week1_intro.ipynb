{
 "cells": [
  {
   "cell_type": "markdown",
   "id": "256c2ee5",
   "metadata": {},
   "source": [
    "# Computer Vision — Week 1 (Intro)\n",
    "\n",
    "**Course notebook template** · Keep it simple, update weekly.\n",
    "\n",
    "**Checklist**\n",
    "- [ ] Read slides + book pages\n",
    "- [ ] Write Paloma-style notes\n",
    "- [ ] Run demo code\n",
    "- [ ] Save results (images/plots)"
   ]
  },
  {
   "cell_type": "markdown",
   "id": "052efaf7",
   "metadata": {},
   "source": [
    "## Quick glossary (this week)\n",
    "- **Pixel:** smallest unit of an image (number).\n",
    "- **Kernel/Filter:** small matrix to detect patterns.\n",
    "- **Convolution:** sliding a kernel over an image.\n",
    "- **CNN:** Convolutional Neural Network (edges→shapes→objects).\n"
   ]
  },
  {
   "cell_type": "markdown",
   "id": "91c00a41",
   "metadata": {},
   "source": [
    "## Notes\n",
    "Write your summary here (slides + book).\n",
    "\n",
    "- Topic 1:\n",
    "- Topic 2:\n",
    "- Questions:\n"
   ]
  },
  {
   "cell_type": "markdown",
   "id": "05bd5d41",
   "metadata": {},
   "source": [
    "## Demo: load an image and apply a simple blur\n",
    "*(You can replace `sample_image.png` with your own)*"
   ]
  },
  {
   "cell_type": "code",
   "execution_count": null,
   "id": "b7e2f122",
   "metadata": {},
   "outputs": [],
   "source": [
    "\n",
    "# Minimal CV demo (no external downloads). We'll generate a synthetic image.\n",
    "import numpy as np\n",
    "import matplotlib.pyplot as plt\n",
    "from scipy.ndimage import gaussian_filter\n",
    "\n",
    "# Create a synthetic image (gradient + square)\n",
    "h, w = 200, 300\n",
    "img = np.tile(np.linspace(0, 1, w), (h, 1))\n",
    "img[60:140, 100:200] = 1.0\n",
    "\n",
    "blur = gaussian_filter(img, sigma=2.0)\n",
    "\n",
    "plt.figure()\n",
    "plt.title(\"Original\")\n",
    "plt.imshow(img, cmap=\"gray\")\n",
    "plt.axis(\"off\")\n",
    "\n",
    "plt.figure()\n",
    "plt.title(\"Gaussian blur (sigma=2)\")\n",
    "plt.imshow(blur, cmap=\"gray\")\n",
    "plt.axis(\"off\")\n"
   ]
  },
  {
   "cell_type": "markdown",
   "id": "9ce8e573",
   "metadata": {},
   "source": [
    "## Reflection\n",
    "- What did the blur change?\n",
    "- Where would blur be useful in CV?\n"
   ]
  }
 ],
 "metadata": {},
 "nbformat": 4,
 "nbformat_minor": 5
}
